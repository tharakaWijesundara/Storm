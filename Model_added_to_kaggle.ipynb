{
  "nbformat": 4,
  "nbformat_minor": 0,
  "metadata": {
    "colab": {
      "name": "unbalence_handle-2.ipynb",
      "provenance": []
    },
    "kernelspec": {
      "name": "python3",
      "display_name": "Python 3"
    }
  },
  "cells": [
    {
      "cell_type": "code",
      "metadata": {
        "id": "sgPxayXHHT0_"
      },
      "source": [
        "#importing relevent packages\r\n",
        "import numpy as np\r\n",
        "import pandas as pd\r\n",
        "import matplotlib.pyplot as plt\r\n",
        "import seaborn as sns\r\n",
        "import torch"
      ],
      "execution_count": 1,
      "outputs": []
    },
    {
      "cell_type": "code",
      "metadata": {
        "colab": {
          "base_uri": "https://localhost:8080/"
        },
        "id": "xfOobJv6Hb5m",
        "outputId": "6b77f961-3355-46d8-fdf1-1bdc3bbc9c48"
      },
      "source": [
        "# Mount google drive\r\n",
        "from google.colab import drive\r\n",
        "drive.mount('/content/drive')"
      ],
      "execution_count": 2,
      "outputs": [
        {
          "output_type": "stream",
          "text": [
            "Mounted at /content/drive\n"
          ],
          "name": "stdout"
        }
      ]
    },
    {
      "cell_type": "code",
      "metadata": {
        "id": "l_bAJD6QHhn3"
      },
      "source": [
        "# importing datasets\r\n",
        "df1=pd.read_csv('/content/drive/My Drive/Datastorm/Hotel-A-train.csv')\r\n",
        "df2=pd.read_csv('/content/drive/My Drive/Datastorm/Hotel-A-validation.csv')\r\n",
        "df3=pd.read_csv('/content/drive/My Drive/Datastorm/Hotel-A-test.csv')"
      ],
      "execution_count": 45,
      "outputs": []
    },
    {
      "cell_type": "code",
      "metadata": {
        "id": "Kmxv8h3gHwaj"
      },
      "source": [
        "# drop rows which has null values\r\n",
        "df1.dropna(inplace=True)\r\n",
        "df2.dropna(inplace=True)"
      ],
      "execution_count": 46,
      "outputs": []
    },
    {
      "cell_type": "code",
      "metadata": {
        "id": "LkT7j6zOHymY"
      },
      "source": [
        "# concatenate training and validations datasets\r\n",
        "df=pd.concat((df1,df2), axis=0)"
      ],
      "execution_count": 47,
      "outputs": []
    },
    {
      "cell_type": "code",
      "metadata": {
        "id": "m_NiRSwNH03C"
      },
      "source": [
        "# drop reservation id column from train and val datasets. Keep ids in test datasets\r\n",
        "df.drop(\"Reservation-id\", axis=1, inplace=True)\r\n",
        "\r\n",
        "id_list = df3[\"Reservation-id\"]\r\n",
        "df3.drop(\"Reservation-id\", axis=1, inplace=True)"
      ],
      "execution_count": 48,
      "outputs": []
    },
    {
      "cell_type": "code",
      "metadata": {
        "colab": {
          "base_uri": "https://localhost:8080/"
        },
        "id": "BavUCvXNH290",
        "outputId": "8a778f44-709d-4f42-e8b0-479bc34f96e2"
      },
      "source": [
        "# chack whether the data set is unbalance or not\r\n",
        "df[\"Reservation_Status\"].value_counts()"
      ],
      "execution_count": 49,
      "outputs": [
        {
          "output_type": "execute_result",
          "data": {
            "text/plain": [
              "Check-In    22850\n",
              "Canceled     4875\n",
              "No-Show      2523\n",
              "Name: Reservation_Status, dtype: int64"
            ]
          },
          "metadata": {
            "tags": []
          },
          "execution_count": 49
        }
      ]
    },
    {
      "cell_type": "code",
      "metadata": {
        "colab": {
          "base_uri": "https://localhost:8080/",
          "height": 266
        },
        "id": "Vo5VvLWVO8F2",
        "outputId": "c9f271c8-d1b2-44c7-8bf6-52dccc43440b"
      },
      "source": [
        "df.head()"
      ],
      "execution_count": 50,
      "outputs": [
        {
          "output_type": "execute_result",
          "data": {
            "text/html": [
              "<div>\n",
              "<style scoped>\n",
              "    .dataframe tbody tr th:only-of-type {\n",
              "        vertical-align: middle;\n",
              "    }\n",
              "\n",
              "    .dataframe tbody tr th {\n",
              "        vertical-align: top;\n",
              "    }\n",
              "\n",
              "    .dataframe thead th {\n",
              "        text-align: right;\n",
              "    }\n",
              "</style>\n",
              "<table border=\"1\" class=\"dataframe\">\n",
              "  <thead>\n",
              "    <tr style=\"text-align: right;\">\n",
              "      <th></th>\n",
              "      <th>Gender</th>\n",
              "      <th>Age</th>\n",
              "      <th>Ethnicity</th>\n",
              "      <th>Educational_Level</th>\n",
              "      <th>Income</th>\n",
              "      <th>Country_region</th>\n",
              "      <th>Hotel_Type</th>\n",
              "      <th>Expected_checkin</th>\n",
              "      <th>Expected_checkout</th>\n",
              "      <th>Booking_date</th>\n",
              "      <th>Adults</th>\n",
              "      <th>Children</th>\n",
              "      <th>Babies</th>\n",
              "      <th>Meal_Type</th>\n",
              "      <th>Visted_Previously</th>\n",
              "      <th>Previous_Cancellations</th>\n",
              "      <th>Deposit_type</th>\n",
              "      <th>Booking_channel</th>\n",
              "      <th>Required_Car_Parking</th>\n",
              "      <th>Reservation_Status</th>\n",
              "      <th>Use_Promotion</th>\n",
              "      <th>Discount_Rate</th>\n",
              "      <th>Room_Rate</th>\n",
              "    </tr>\n",
              "  </thead>\n",
              "  <tbody>\n",
              "    <tr>\n",
              "      <th>0</th>\n",
              "      <td>F</td>\n",
              "      <td>40</td>\n",
              "      <td>Latino</td>\n",
              "      <td>Grad</td>\n",
              "      <td>&lt;25K</td>\n",
              "      <td>North</td>\n",
              "      <td>City Hotel</td>\n",
              "      <td>7/1/2015</td>\n",
              "      <td>7/2/2015</td>\n",
              "      <td>5/21/2015</td>\n",
              "      <td>2</td>\n",
              "      <td>2</td>\n",
              "      <td>0</td>\n",
              "      <td>BB</td>\n",
              "      <td>No</td>\n",
              "      <td>No</td>\n",
              "      <td>No Deposit</td>\n",
              "      <td>Online</td>\n",
              "      <td>Yes</td>\n",
              "      <td>Check-In</td>\n",
              "      <td>Yes</td>\n",
              "      <td>10</td>\n",
              "      <td>218</td>\n",
              "    </tr>\n",
              "    <tr>\n",
              "      <th>1</th>\n",
              "      <td>F</td>\n",
              "      <td>49</td>\n",
              "      <td>Latino</td>\n",
              "      <td>Mid-School</td>\n",
              "      <td>50K -- 100K</td>\n",
              "      <td>East</td>\n",
              "      <td>City Hotel</td>\n",
              "      <td>7/1/2015</td>\n",
              "      <td>7/2/2015</td>\n",
              "      <td>5/26/2015</td>\n",
              "      <td>3</td>\n",
              "      <td>3</td>\n",
              "      <td>0</td>\n",
              "      <td>BB</td>\n",
              "      <td>No</td>\n",
              "      <td>No</td>\n",
              "      <td>Refundable</td>\n",
              "      <td>Online</td>\n",
              "      <td>Yes</td>\n",
              "      <td>Check-In</td>\n",
              "      <td>No</td>\n",
              "      <td>0</td>\n",
              "      <td>185</td>\n",
              "    </tr>\n",
              "    <tr>\n",
              "      <th>2</th>\n",
              "      <td>F</td>\n",
              "      <td>42</td>\n",
              "      <td>caucasian</td>\n",
              "      <td>Grad</td>\n",
              "      <td>&lt;25K</td>\n",
              "      <td>East</td>\n",
              "      <td>City Hotel</td>\n",
              "      <td>7/2/2015</td>\n",
              "      <td>7/6/2015</td>\n",
              "      <td>6/29/2015</td>\n",
              "      <td>3</td>\n",
              "      <td>3</td>\n",
              "      <td>0</td>\n",
              "      <td>BB</td>\n",
              "      <td>No</td>\n",
              "      <td>No</td>\n",
              "      <td>No Deposit</td>\n",
              "      <td>Online</td>\n",
              "      <td>Yes</td>\n",
              "      <td>Check-In</td>\n",
              "      <td>No</td>\n",
              "      <td>0</td>\n",
              "      <td>119</td>\n",
              "    </tr>\n",
              "    <tr>\n",
              "      <th>3</th>\n",
              "      <td>M</td>\n",
              "      <td>25</td>\n",
              "      <td>African American</td>\n",
              "      <td>College</td>\n",
              "      <td>&gt;100K</td>\n",
              "      <td>South</td>\n",
              "      <td>Airport Hotels</td>\n",
              "      <td>7/2/2015</td>\n",
              "      <td>7/3/2015</td>\n",
              "      <td>6/20/2015</td>\n",
              "      <td>4</td>\n",
              "      <td>3</td>\n",
              "      <td>0</td>\n",
              "      <td>BB</td>\n",
              "      <td>No</td>\n",
              "      <td>No</td>\n",
              "      <td>Refundable</td>\n",
              "      <td>Agent</td>\n",
              "      <td>Yes</td>\n",
              "      <td>Check-In</td>\n",
              "      <td>Yes</td>\n",
              "      <td>5</td>\n",
              "      <td>144</td>\n",
              "    </tr>\n",
              "    <tr>\n",
              "      <th>4</th>\n",
              "      <td>F</td>\n",
              "      <td>62</td>\n",
              "      <td>Latino</td>\n",
              "      <td>High-School</td>\n",
              "      <td>25K --50K</td>\n",
              "      <td>East</td>\n",
              "      <td>Resort</td>\n",
              "      <td>7/3/2015</td>\n",
              "      <td>7/4/2015</td>\n",
              "      <td>6/20/2015</td>\n",
              "      <td>1</td>\n",
              "      <td>1</td>\n",
              "      <td>0</td>\n",
              "      <td>BB</td>\n",
              "      <td>No</td>\n",
              "      <td>No</td>\n",
              "      <td>No Deposit</td>\n",
              "      <td>Direct</td>\n",
              "      <td>No</td>\n",
              "      <td>Check-In</td>\n",
              "      <td>Yes</td>\n",
              "      <td>10</td>\n",
              "      <td>242</td>\n",
              "    </tr>\n",
              "  </tbody>\n",
              "</table>\n",
              "</div>"
            ],
            "text/plain": [
              "  Gender  Age         Ethnicity  ... Use_Promotion Discount_Rate Room_Rate\n",
              "0      F   40            Latino  ...           Yes            10       218\n",
              "1      F   49            Latino  ...            No             0       185\n",
              "2      F   42         caucasian  ...            No             0       119\n",
              "3      M   25  African American  ...           Yes             5       144\n",
              "4      F   62            Latino  ...           Yes            10       242\n",
              "\n",
              "[5 rows x 23 columns]"
            ]
          },
          "metadata": {
            "tags": []
          },
          "execution_count": 50
        }
      ]
    },
    {
      "cell_type": "code",
      "metadata": {
        "id": "2aHFUxlUH5f1"
      },
      "source": [
        "import datetime"
      ],
      "execution_count": 51,
      "outputs": []
    },
    {
      "cell_type": "code",
      "metadata": {
        "id": "8S99AGztH716"
      },
      "source": [
        "# convert datetime data to number of dates by substracting from now\r\n",
        "def no_of_dates(x):\r\n",
        "    _x = x.split('/')\r\n",
        "    _y = datetime.datetime.now() - datetime.datetime(int(_x[2]), int(_x[0]), int(_x[1]))\r\n",
        "    _y = _y.days\r\n",
        "    return _y"
      ],
      "execution_count": 52,
      "outputs": []
    },
    {
      "cell_type": "code",
      "metadata": {
        "id": "Xg52VpaFH91e"
      },
      "source": [
        "df['Booking_date'] = df['Booking_date'].apply(no_of_dates)\r\n",
        "df['Expected_checkin'] = df['Expected_checkin'].apply(no_of_dates)\r\n",
        "df['Expected_checkout'] = df['Expected_checkout'].apply(no_of_dates)\r\n",
        "\r\n",
        "\r\n",
        "df3['Booking_date'] = df3['Booking_date'].apply(no_of_dates)\r\n",
        "df3['Expected_checkin'] = df3['Expected_checkin'].apply(no_of_dates)\r\n",
        "df3['Expected_checkout'] = df3['Expected_checkout'].apply(no_of_dates)"
      ],
      "execution_count": 53,
      "outputs": []
    },
    {
      "cell_type": "code",
      "metadata": {
        "id": "1oJOLd0yIAuY"
      },
      "source": [
        "# import encoding packages\r\n",
        "from sklearn.preprocessing import LabelEncoder\r\n",
        "from sklearn.preprocessing import StandardScaler\r\n",
        "from sklearn.preprocessing import RobustScaler"
      ],
      "execution_count": 54,
      "outputs": []
    },
    {
      "cell_type": "code",
      "metadata": {
        "id": "PczWQ0KuIDCA"
      },
      "source": [
        "categorical_features = [\"Ethnicity\", \"Educational_Level\", \"Income\", \"Country_region\", \"Adults\",\"Children\",\"Hotel_Type\", \"Meal_Type\", \"Visted_Previously\", \"Previous_Cancellations\",\r\n",
        "                       \"Deposit_type\", \"Booking_channel\", \"Required_Car_Parking\", \"Use_Promotion\",\"Gender\"]\r\n",
        "\r\n",
        "continuous_features = ['Booking_date','Room_Rate',\"Age\"]"
      ],
      "execution_count": 55,
      "outputs": []
    },
    {
      "cell_type": "code",
      "metadata": {
        "id": "1J7l2j6bIE7C"
      },
      "source": [
        "# replace Reservation_Status column with 1, 2, 3\r\n",
        "df.replace(to_replace =[\"Check-In\"], value =1, inplace=True) \r\n",
        "df.replace(to_replace =[\"Canceled\"], value =2, inplace=True) \r\n",
        "df.replace(to_replace =[\"No-Show\"], value =3, inplace=True) "
      ],
      "execution_count": 56,
      "outputs": []
    },
    {
      "cell_type": "code",
      "metadata": {
        "id": "V_KYxkvhIHCP"
      },
      "source": [
        "# encoding \r\n",
        "for feature in categorical_features:\r\n",
        "    lbl_enc = LabelEncoder()\r\n",
        "    df[feature]=lbl_enc.fit_transform(df[feature]) + 1\r\n",
        "    df3[feature]=lbl_enc.fit_transform(df3[feature]) + 1"
      ],
      "execution_count": 57,
      "outputs": []
    },
    {
      "cell_type": "code",
      "metadata": {
        "id": "t9i4me2cIJyI"
      },
      "source": [
        "# Scaling the features\r\n",
        "for feature in continuous_features:\r\n",
        "    std_enc = StandardScaler()\r\n",
        "    df[feature]=std_enc.fit_transform(df[feature].values.reshape(-1,1))\r\n",
        "    df3[feature]=std_enc.fit_transform(df3[feature].values.reshape(-1,1))"
      ],
      "execution_count": 58,
      "outputs": []
    },
    {
      "cell_type": "code",
      "metadata": {
        "id": "IsFeZmGmIMno"
      },
      "source": [
        "df_1 = df[categorical_features]\r\n",
        "df_2 = df[continuous_features]\r\n",
        "df_3 = df[\"Reservation_Status\"]\r\n",
        "\r\n",
        "df=pd.concat((df_1,df_2,df_3), axis=1)\r\n",
        "\r\n",
        "df_1_t = df3[categorical_features]\r\n",
        "df_2_t = df3[continuous_features]\r\n",
        "\r\n",
        "df3=pd.concat((df_1_t,df_2_t), axis=1)"
      ],
      "execution_count": 59,
      "outputs": []
    },
    {
      "cell_type": "code",
      "metadata": {
        "id": "Fe89N-xXIOwt"
      },
      "source": [
        "x = df.drop(\"Reservation_Status\",axis=1)\r\n",
        "y = df.Reservation_Status\r\n",
        "\r\n",
        "x_final_test = df3"
      ],
      "execution_count": 60,
      "outputs": []
    },
    {
      "cell_type": "code",
      "metadata": {
        "id": "zl8Lq0ZGIR76"
      },
      "source": [
        "from sklearn.model_selection import train_test_split"
      ],
      "execution_count": 61,
      "outputs": []
    },
    {
      "cell_type": "code",
      "metadata": {
        "id": "XYD4CsKHIUQV"
      },
      "source": [
        "# divide the combined dataset to test and validation\r\n",
        "X_train,X_test,y_train,y_test=train_test_split(x,y,train_size=0.9)"
      ],
      "execution_count": 62,
      "outputs": []
    },
    {
      "cell_type": "code",
      "metadata": {
        "id": "Vn6i1nn5IWMM"
      },
      "source": [
        "# importing packages to make the dataset balance\r\n",
        "from imblearn.combine import SMOTETomek\r\n",
        "from imblearn.under_sampling import NearMiss\r\n",
        "from imblearn.over_sampling import RandomOverSampler"
      ],
      "execution_count": 63,
      "outputs": []
    },
    {
      "cell_type": "code",
      "metadata": {
        "colab": {
          "base_uri": "https://localhost:8080/"
        },
        "id": "nyfBBahzIYKY",
        "outputId": "8d4938e4-3759-4506-c809-83d288919fab"
      },
      "source": [
        "# balancing dataset\r\n",
        "os=SMOTETomek()\r\n",
        "# os=NearMiss()\r\n",
        "# os=RandomOverSampler()\r\n",
        "X_train_ns,y_train_ns=os.fit_sample(X_train,y_train)"
      ],
      "execution_count": 64,
      "outputs": [
        {
          "output_type": "stream",
          "text": [
            "/usr/local/lib/python3.7/dist-packages/sklearn/utils/deprecation.py:87: FutureWarning: Function safe_indexing is deprecated; safe_indexing is deprecated in version 0.22 and will be removed in version 0.24.\n",
            "  warnings.warn(msg, category=FutureWarning)\n",
            "/usr/local/lib/python3.7/dist-packages/sklearn/utils/deprecation.py:87: FutureWarning: Function safe_indexing is deprecated; safe_indexing is deprecated in version 0.22 and will be removed in version 0.24.\n",
            "  warnings.warn(msg, category=FutureWarning)\n",
            "/usr/local/lib/python3.7/dist-packages/sklearn/utils/deprecation.py:87: FutureWarning: Function safe_indexing is deprecated; safe_indexing is deprecated in version 0.22 and will be removed in version 0.24.\n",
            "  warnings.warn(msg, category=FutureWarning)\n"
          ],
          "name": "stderr"
        }
      ]
    },
    {
      "cell_type": "code",
      "metadata": {
        "id": "3f82fbXhkgkj"
      },
      "source": [
        "updated_x = pd.DataFrame(X_train_ns, columns = categorical_features + continuous_features)"
      ],
      "execution_count": 65,
      "outputs": []
    },
    {
      "cell_type": "code",
      "metadata": {
        "id": "igM4HzcHlRip"
      },
      "source": [
        "updated_y = pd.DataFrame(y_train_ns, columns = [\"Reservation_Status\"])"
      ],
      "execution_count": 66,
      "outputs": []
    },
    {
      "cell_type": "code",
      "metadata": {
        "id": "A97li5_flxVp"
      },
      "source": [
        ""
      ],
      "execution_count": 66,
      "outputs": []
    },
    {
      "cell_type": "code",
      "metadata": {
        "id": "GOpCgOezIf5S"
      },
      "source": [
        "from collections import Counter"
      ],
      "execution_count": 67,
      "outputs": []
    },
    {
      "cell_type": "code",
      "metadata": {
        "colab": {
          "base_uri": "https://localhost:8080/"
        },
        "id": "q0-pFEl0Iyzf",
        "outputId": "76294fbe-95c9-46f6-b20a-9ee44361419b"
      },
      "source": [
        "print(\"The number of classes before fit {}\".format(Counter(y_train)))\r\n",
        "print(\"The number of classes after fit {}\".format(Counter(y_train_ns)))\r\n",
        "# The number of classes before fit Counter({1: 20584, 2: 4364, 3: 2275})\r\n",
        "# The number of classes after fit Counter({3: 20579, 2: 20569, 1: 20564})"
      ],
      "execution_count": 68,
      "outputs": [
        {
          "output_type": "stream",
          "text": [
            "The number of classes before fit Counter({1: 20580, 2: 4380, 3: 2263})\n",
            "The number of classes after fit Counter({3: 20576, 2: 20557, 1: 20553})\n"
          ],
          "name": "stdout"
        }
      ]
    },
    {
      "cell_type": "code",
      "metadata": {
        "colab": {
          "base_uri": "https://localhost:8080/"
        },
        "id": "NBxsgo590jQh",
        "outputId": "35216ef4-7496-4b13-aa0c-0a82b31b44b1"
      },
      "source": [
        "# check the importancr of each column\r\n",
        "from sklearn.ensemble import ExtraTreesClassifier\r\n",
        "import matplotlib.pyplot as plt\r\n",
        "model=ExtraTreesClassifier()\r\n",
        "model.fit(updated_x ,updated_y)"
      ],
      "execution_count": 69,
      "outputs": [
        {
          "output_type": "stream",
          "text": [
            "/usr/local/lib/python3.7/dist-packages/ipykernel_launcher.py:5: DataConversionWarning: A column-vector y was passed when a 1d array was expected. Please change the shape of y to (n_samples,), for example using ravel().\n",
            "  \"\"\"\n"
          ],
          "name": "stderr"
        },
        {
          "output_type": "execute_result",
          "data": {
            "text/plain": [
              "ExtraTreesClassifier(bootstrap=False, ccp_alpha=0.0, class_weight=None,\n",
              "                     criterion='gini', max_depth=None, max_features='auto',\n",
              "                     max_leaf_nodes=None, max_samples=None,\n",
              "                     min_impurity_decrease=0.0, min_impurity_split=None,\n",
              "                     min_samples_leaf=1, min_samples_split=2,\n",
              "                     min_weight_fraction_leaf=0.0, n_estimators=100,\n",
              "                     n_jobs=None, oob_score=False, random_state=None, verbose=0,\n",
              "                     warm_start=False)"
            ]
          },
          "metadata": {
            "tags": []
          },
          "execution_count": 69
        }
      ]
    },
    {
      "cell_type": "code",
      "metadata": {
        "colab": {
          "base_uri": "https://localhost:8080/",
          "height": 265
        },
        "id": "uwCNMIRU01jw",
        "outputId": "00502088-decd-4bcd-dad5-fcfdf8e398af"
      },
      "source": [
        "# rank the importance features\r\n",
        "ranked_features=pd.Series(model.feature_importances_,index=updated_x.columns)\r\n",
        "ranked_features.nlargest(28).plot(kind='barh')\r\n",
        "plt.show()"
      ],
      "execution_count": null,
      "outputs": [
        {
          "output_type": "display_data",
          "data": {
            "image/png": "[encoded data removed]",
            "text/plain": [
              "<Figure size 432x288 with 1 Axes>"
            ]
          },
          "metadata": {
            "tags": [],
            "needs_background": "light"
          }
        }
      ]
    },
    {
      "cell_type": "code",
      "metadata": {
        "id": "MgDSZj3zA8FS"
      },
      "source": [
        ""
      ],
      "execution_count": null,
      "outputs": []
    },
    {
      "cell_type": "code",
      "metadata": {
        "colab": {
          "base_uri": "https://localhost:8080/"
        },
        "id": "RUmmh3L9JDSF",
        "outputId": "fe9457be-11c1-455a-8de7-233d005318a5"
      },
      "source": [
        "from sklearn.ensemble import RandomForestClassifier\r\n",
        "import xgboost\r\n",
        "from sklearn.ensemble import AdaBoostClassifier\r\n",
        "from sklearn.ensemble import ExtraTreesClassifier\r\n",
        "\r\n",
        "# classifier=RandomForestClassifier(n_estimators=1)\r\n",
        "\r\n",
        "# classifier=xgboost.XGBClassifier()\r\n",
        "\r\n",
        "# classifier=AdaBoostClassifier()#8\r\n",
        "classifier = AdaBoostClassifier(learning_rate=0.2,n_estimators=98)\r\n",
        "\r\n",
        "\r\n",
        "\r\n",
        "\r\n",
        "classifier.fit(updated_x,updated_y)"
      ],
      "execution_count": 70,
      "outputs": [
        {
          "output_type": "stream",
          "text": [
            "/usr/local/lib/python3.7/dist-packages/sklearn/utils/validation.py:760: DataConversionWarning: A column-vector y was passed when a 1d array was expected. Please change the shape of y to (n_samples, ), for example using ravel().\n",
            "  y = column_or_1d(y, warn=True)\n"
          ],
          "name": "stderr"
        },
        {
          "output_type": "execute_result",
          "data": {
            "text/plain": [
              "AdaBoostClassifier(algorithm='SAMME.R', base_estimator=None, learning_rate=0.2,\n",
              "                   n_estimators=98, random_state=None)"
            ]
          },
          "metadata": {
            "tags": []
          },
          "execution_count": 70
        }
      ]
    },
    {
      "cell_type": "code",
      "metadata": {
        "id": "-mROMFGABD66"
      },
      "source": [
        "# hyperparameter tuning\r\n",
        "n_estimators = [i for i in range(1,101)]\r\n",
        "learning_rate=[0.01,0.05,0.1,0.15,0.20]\r\n"
      ],
      "execution_count": null,
      "outputs": []
    },
    {
      "cell_type": "code",
      "metadata": {
        "id": "VYbPBmRyBEC_"
      },
      "source": [
        "hyperparameter_grid = {\r\n",
        "    'n_estimators': n_estimators,\r\n",
        "    'learning_rate':learning_rate,\r\n",
        "    }"
      ],
      "execution_count": null,
      "outputs": []
    },
    {
      "cell_type": "code",
      "metadata": {
        "id": "Z898MJzYA_ny"
      },
      "source": [
        "from sklearn.model_selection import RandomizedSearchCV\r\n",
        "random_cv = RandomizedSearchCV(estimator=classifier,\r\n",
        "            param_distributions=hyperparameter_grid,\r\n",
        "            cv=5, n_iter=50,\r\n",
        "            scoring = 'neg_mean_absolute_error',n_jobs = 4,\r\n",
        "            verbose = 5, \r\n",
        "            return_train_score = True,\r\n",
        "            random_state=42)"
      ],
      "execution_count": null,
      "outputs": []
    },
    {
      "cell_type": "code",
      "metadata": {
        "colab": {
          "base_uri": "https://localhost:8080/"
        },
        "id": "Yj3JIyo5Bnw3",
        "outputId": "16d58fc3-e92e-4633-adf9-486019c242b1"
      },
      "source": [
        "random_cv.fit(updated_x, updated_y)"
      ],
      "execution_count": null,
      "outputs": [
        {
          "output_type": "stream",
          "text": [
            "Fitting 5 folds for each of 50 candidates, totalling 250 fits\n"
          ],
          "name": "stdout"
        },
        {
          "output_type": "stream",
          "text": [
            "[Parallel(n_jobs=4)]: Using backend LokyBackend with 4 concurrent workers.\n",
            "[Parallel(n_jobs=4)]: Done  10 tasks      | elapsed:   47.3s\n",
            "[Parallel(n_jobs=4)]: Done  64 tasks      | elapsed:  3.1min\n",
            "[Parallel(n_jobs=4)]: Done 154 tasks      | elapsed:  8.0min\n",
            "[Parallel(n_jobs=4)]: Done 250 out of 250 | elapsed: 11.9min finished\n",
            "/usr/local/lib/python3.7/dist-packages/sklearn/utils/validation.py:760: DataConversionWarning: A column-vector y was passed when a 1d array was expected. Please change the shape of y to (n_samples, ), for example using ravel().\n",
            "  y = column_or_1d(y, warn=True)\n"
          ],
          "name": "stderr"
        },
        {
          "output_type": "execute_result",
          "data": {
            "text/plain": [
              "RandomizedSearchCV(cv=5, error_score=nan,\n",
              "                   estimator=AdaBoostClassifier(algorithm='SAMME.R',\n",
              "                                                base_estimator=None,\n",
              "                                                learning_rate=1.0,\n",
              "                                                n_estimators=50,\n",
              "                                                random_state=None),\n",
              "                   iid='deprecated', n_iter=50, n_jobs=4,\n",
              "                   param_distributions={'learning_rate': [0.01, 0.05, 0.1, 0.15,\n",
              "                                                          0.2],\n",
              "                                        'n_estimators': [1, 2, 3, 4, 5, 6, 7, 8,\n",
              "                                                         9, 10, 11, 12, 13, 14,\n",
              "                                                         15, 16, 17, 18, 19, 20,\n",
              "                                                         21, 22, 23, 24, 25, 26,\n",
              "                                                         27, 28, 29, 30, ...]},\n",
              "                   pre_dispatch='2*n_jobs', random_state=42, refit=True,\n",
              "                   return_train_score=True, scoring='neg_mean_absolute_error',\n",
              "                   verbose=5)"
            ]
          },
          "metadata": {
            "tags": []
          },
          "execution_count": 339
        }
      ]
    },
    {
      "cell_type": "code",
      "metadata": {
        "colab": {
          "base_uri": "https://localhost:8080/"
        },
        "id": "auFWRoK1DTWE",
        "outputId": "90ca6663-f07e-4f0c-bc09-d96349c5c2f8"
      },
      "source": [
        "random_cv.best_estimator_\r\n",
        "# AdaBoostClassifier(algorithm='SAMME.R', base_estimator=None, learning_rate=0.2,\r\n",
        "#                    n_estimators=98, random_state=None)"
      ],
      "execution_count": null,
      "outputs": [
        {
          "output_type": "execute_result",
          "data": {
            "text/plain": [
              "AdaBoostClassifier(algorithm='SAMME.R', base_estimator=None, learning_rate=0.2,\n",
              "                   n_estimators=98, random_state=None)"
            ]
          },
          "metadata": {
            "tags": []
          },
          "execution_count": 340
        }
      ]
    },
    {
      "cell_type": "code",
      "metadata": {
        "id": "r9eZ_RaCJYco"
      },
      "source": [
        "y_pred=classifier.predict(X_test)"
      ],
      "execution_count": 71,
      "outputs": []
    },
    {
      "cell_type": "code",
      "metadata": {
        "colab": {
          "base_uri": "https://localhost:8080/"
        },
        "id": "KAZrzfC8Dhpg",
        "outputId": "8c729b35-d282-4e77-cb73-c17c3cb96dc8"
      },
      "source": [
        "df.shape"
      ],
      "execution_count": 72,
      "outputs": [
        {
          "output_type": "execute_result",
          "data": {
            "text/plain": [
              "(30248, 19)"
            ]
          },
          "metadata": {
            "tags": []
          },
          "execution_count": 72
        }
      ]
    },
    {
      "cell_type": "code",
      "metadata": {
        "id": "V8LhZr5eQvA-"
      },
      "source": [
        ""
      ],
      "execution_count": 30,
      "outputs": []
    },
    {
      "cell_type": "code",
      "metadata": {
        "id": "5X_Kute6Q24e"
      },
      "source": [
        ""
      ],
      "execution_count": 30,
      "outputs": []
    },
    {
      "cell_type": "code",
      "metadata": {
        "colab": {
          "base_uri": "https://localhost:8080/"
        },
        "id": "Jyi5_nGHJdl1",
        "outputId": "b2e0b763-0049-46bd-8468-675518d020a5"
      },
      "source": [
        "from sklearn.metrics import f1_score\r\n",
        "print(f1_score(y_test, y_pred, average='macro'))"
      ],
      "execution_count": 73,
      "outputs": [
        {
          "output_type": "stream",
          "text": [
            "0.3545934058209334\n"
          ],
          "name": "stdout"
        }
      ]
    },
    {
      "cell_type": "code",
      "metadata": {
        "id": "EDROLmx4JhrG"
      },
      "source": [
        ""
      ],
      "execution_count": 73,
      "outputs": []
    },
    {
      "cell_type": "code",
      "metadata": {
        "id": "19Sx3X4CMc5j"
      },
      "source": [
        "y_final = classifier.predict(x_final_test)"
      ],
      "execution_count": 74,
      "outputs": []
    },
    {
      "cell_type": "code",
      "metadata": {
        "id": "36IC4TC4MiYb"
      },
      "source": [
        "result = pd.DataFrame(data={\"Reservation-id\":id_list.values, \"Reservation_Status\":y_final})"
      ],
      "execution_count": 75,
      "outputs": []
    },
    {
      "cell_type": "code",
      "metadata": {
        "id": "wSgh_nOriizz"
      },
      "source": [
        "result.to_csv('final-2.csv',index=False)"
      ],
      "execution_count": 80,
      "outputs": []
    },
    {
      "cell_type": "code",
      "metadata": {
        "id": "ou1hljxvi7BM"
      },
      "source": [
        "y_final = pd.DataFrame(data={\"Reservation_Status\":y_final})"
      ],
      "execution_count": 76,
      "outputs": []
    },
    {
      "cell_type": "code",
      "metadata": {
        "id": "J4RGIVl2Xaf6"
      },
      "source": [
        ""
      ],
      "execution_count": 97,
      "outputs": []
    },
    {
      "cell_type": "markdown",
      "metadata": {
        "id": "MWcLh7P9XgYD"
      },
      "source": [
        "**Evaluation** "
      ]
    },
    {
      "cell_type": "markdown",
      "metadata": {
        "id": "cB8zmbmaXc3r"
      },
      "source": [
        ""
      ]
    },
    {
      "cell_type": "code",
      "metadata": {
        "id": "JC16UKw3XHXE"
      },
      "source": [
        "#import the original test set\r\n",
        "Test_df=pd.read_csv('/content/drive/My Drive/Datastorm/Hotel-A-test.csv')"
      ],
      "execution_count": 100,
      "outputs": []
    },
    {
      "cell_type": "code",
      "metadata": {
        "id": "d6YmieWGP_gA"
      },
      "source": [
        "#concatenate the imported test set with the predicted results\r\n",
        "output_df = pd.concat((Test_df,y_final), axis=1)"
      ],
      "execution_count": 101,
      "outputs": []
    },
    {
      "cell_type": "code",
      "metadata": {
        "id": "tWMrOerkQ0HS"
      },
      "source": [
        "#filtered the result using reservation status 2 (Cancel)\r\n",
        "output_df = output_df.loc[output_df['Reservation_Status'] == 2]"
      ],
      "execution_count": 102,
      "outputs": []
    },
    {
      "cell_type": "code",
      "metadata": {
        "colab": {
          "base_uri": "https://localhost:8080/",
          "height": 316
        },
        "id": "sY6c7eZJS5Hb",
        "outputId": "6866aff4-4995-428a-b9ec-214e67121ae0"
      },
      "source": [
        "output_df.head()"
      ],
      "execution_count": 103,
      "outputs": [
        {
          "output_type": "execute_result",
          "data": {
            "text/html": [
              "<div>\n",
              "<style scoped>\n",
              "    .dataframe tbody tr th:only-of-type {\n",
              "        vertical-align: middle;\n",
              "    }\n",
              "\n",
              "    .dataframe tbody tr th {\n",
              "        vertical-align: top;\n",
              "    }\n",
              "\n",
              "    .dataframe thead th {\n",
              "        text-align: right;\n",
              "    }\n",
              "</style>\n",
              "<table border=\"1\" class=\"dataframe\">\n",
              "  <thead>\n",
              "    <tr style=\"text-align: right;\">\n",
              "      <th></th>\n",
              "      <th>Reservation-id</th>\n",
              "      <th>Gender</th>\n",
              "      <th>Age</th>\n",
              "      <th>Ethnicity</th>\n",
              "      <th>Educational_Level</th>\n",
              "      <th>Income</th>\n",
              "      <th>Country_region</th>\n",
              "      <th>Hotel_Type</th>\n",
              "      <th>Expected_checkin</th>\n",
              "      <th>Expected_checkout</th>\n",
              "      <th>Booking_date</th>\n",
              "      <th>Adults</th>\n",
              "      <th>Children</th>\n",
              "      <th>Babies</th>\n",
              "      <th>Meal_Type</th>\n",
              "      <th>Visted_Previously</th>\n",
              "      <th>Previous_Cancellations</th>\n",
              "      <th>Deposit_type</th>\n",
              "      <th>Booking_channel</th>\n",
              "      <th>Required_Car_Parking</th>\n",
              "      <th>Use_Promotion</th>\n",
              "      <th>Discount_Rate</th>\n",
              "      <th>Room_Rate</th>\n",
              "      <th>Reservation_Status</th>\n",
              "    </tr>\n",
              "  </thead>\n",
              "  <tbody>\n",
              "    <tr>\n",
              "      <th>0</th>\n",
              "      <td>62931593</td>\n",
              "      <td>F</td>\n",
              "      <td>52</td>\n",
              "      <td>Latino</td>\n",
              "      <td>Grad</td>\n",
              "      <td>25K --50K</td>\n",
              "      <td>South</td>\n",
              "      <td>City Hotel</td>\n",
              "      <td>11/18/2016</td>\n",
              "      <td>11/19/2016</td>\n",
              "      <td>10/28/2016</td>\n",
              "      <td>3</td>\n",
              "      <td>3</td>\n",
              "      <td>0</td>\n",
              "      <td>HB</td>\n",
              "      <td>No</td>\n",
              "      <td>No</td>\n",
              "      <td>No Deposit</td>\n",
              "      <td>Direct</td>\n",
              "      <td>Yes</td>\n",
              "      <td>Yes</td>\n",
              "      <td>10</td>\n",
              "      <td>153</td>\n",
              "      <td>2</td>\n",
              "    </tr>\n",
              "    <tr>\n",
              "      <th>1</th>\n",
              "      <td>70586099</td>\n",
              "      <td>F</td>\n",
              "      <td>47</td>\n",
              "      <td>Latino</td>\n",
              "      <td>Grad</td>\n",
              "      <td>25K --50K</td>\n",
              "      <td>East</td>\n",
              "      <td>Airport Hotels</td>\n",
              "      <td>11/18/2016</td>\n",
              "      <td>11/19/2016</td>\n",
              "      <td>8/6/2016</td>\n",
              "      <td>2</td>\n",
              "      <td>1</td>\n",
              "      <td>0</td>\n",
              "      <td>FB</td>\n",
              "      <td>No</td>\n",
              "      <td>No</td>\n",
              "      <td>No Deposit</td>\n",
              "      <td>Online</td>\n",
              "      <td>No</td>\n",
              "      <td>No</td>\n",
              "      <td>0</td>\n",
              "      <td>210</td>\n",
              "      <td>2</td>\n",
              "    </tr>\n",
              "    <tr>\n",
              "      <th>3</th>\n",
              "      <td>25192322</td>\n",
              "      <td>F</td>\n",
              "      <td>65</td>\n",
              "      <td>caucasian</td>\n",
              "      <td>High-School</td>\n",
              "      <td>25K --50K</td>\n",
              "      <td>South</td>\n",
              "      <td>Airport Hotels</td>\n",
              "      <td>11/18/2016</td>\n",
              "      <td>11/20/2016</td>\n",
              "      <td>5/20/2016</td>\n",
              "      <td>1</td>\n",
              "      <td>3</td>\n",
              "      <td>2</td>\n",
              "      <td>FB</td>\n",
              "      <td>No</td>\n",
              "      <td>No</td>\n",
              "      <td>No Deposit</td>\n",
              "      <td>Online</td>\n",
              "      <td>Yes</td>\n",
              "      <td>Yes</td>\n",
              "      <td>10</td>\n",
              "      <td>107</td>\n",
              "      <td>2</td>\n",
              "    </tr>\n",
              "    <tr>\n",
              "      <th>7</th>\n",
              "      <td>90487908</td>\n",
              "      <td>M</td>\n",
              "      <td>45</td>\n",
              "      <td>African American</td>\n",
              "      <td>High-School</td>\n",
              "      <td>&lt;25K</td>\n",
              "      <td>South</td>\n",
              "      <td>Airport Hotels</td>\n",
              "      <td>11/18/2016</td>\n",
              "      <td>11/20/2016</td>\n",
              "      <td>8/1/2016</td>\n",
              "      <td>3</td>\n",
              "      <td>2</td>\n",
              "      <td>1</td>\n",
              "      <td>FB</td>\n",
              "      <td>No</td>\n",
              "      <td>No</td>\n",
              "      <td>No Deposit</td>\n",
              "      <td>Online</td>\n",
              "      <td>No</td>\n",
              "      <td>Yes</td>\n",
              "      <td>10</td>\n",
              "      <td>165</td>\n",
              "      <td>2</td>\n",
              "    </tr>\n",
              "    <tr>\n",
              "      <th>8</th>\n",
              "      <td>5595445</td>\n",
              "      <td>F</td>\n",
              "      <td>27</td>\n",
              "      <td>Latino</td>\n",
              "      <td>High-School</td>\n",
              "      <td>50K -- 100K</td>\n",
              "      <td>South</td>\n",
              "      <td>City Hotel</td>\n",
              "      <td>11/18/2016</td>\n",
              "      <td>11/19/2016</td>\n",
              "      <td>6/10/2016</td>\n",
              "      <td>1</td>\n",
              "      <td>1</td>\n",
              "      <td>0</td>\n",
              "      <td>FB</td>\n",
              "      <td>No</td>\n",
              "      <td>No</td>\n",
              "      <td>Non-Refundable</td>\n",
              "      <td>Direct</td>\n",
              "      <td>No</td>\n",
              "      <td>Yes</td>\n",
              "      <td>30</td>\n",
              "      <td>173</td>\n",
              "      <td>2</td>\n",
              "    </tr>\n",
              "  </tbody>\n",
              "</table>\n",
              "</div>"
            ],
            "text/plain": [
              "   Reservation-id Gender  Age  ... Discount_Rate Room_Rate Reservation_Status\n",
              "0        62931593      F   52  ...            10       153                  2\n",
              "1        70586099      F   47  ...             0       210                  2\n",
              "3        25192322      F   65  ...            10       107                  2\n",
              "7        90487908      M   45  ...            10       165                  2\n",
              "8         5595445      F   27  ...            30       173                  2\n",
              "\n",
              "[5 rows x 24 columns]"
            ]
          },
          "metadata": {
            "tags": []
          },
          "execution_count": 103
        }
      ]
    },
    {
      "cell_type": "code",
      "metadata": {
        "id": "AVcdtWMXUDWy"
      },
      "source": [
        "#calculated total number of persons\r\n",
        "output_df[\"Total_persons\"] = output_df[\"Adults\"] + output_df[\"Children\"]"
      ],
      "execution_count": 104,
      "outputs": []
    },
    {
      "cell_type": "code",
      "metadata": {
        "id": "kZcTq6mrUDgI"
      },
      "source": [
        ""
      ],
      "execution_count": 91,
      "outputs": []
    },
    {
      "cell_type": "code",
      "metadata": {
        "id": "zaiPsVuSUDmW"
      },
      "source": [
        "#function to calculate total rooms\r\n",
        "def no_of_rooms(persons):\r\n",
        "  rooms = persons//5\r\n",
        "  if(persons%5 != 0):\r\n",
        "    rooms+=1\r\n",
        "  \r\n",
        "  return rooms"
      ],
      "execution_count": 105,
      "outputs": []
    },
    {
      "cell_type": "code",
      "metadata": {
        "id": "CVEclP_sUDpy"
      },
      "source": [
        "output_df['No_of_rooms'] = output_df['Total_persons'].apply(no_of_rooms)"
      ],
      "execution_count": 106,
      "outputs": []
    },
    {
      "cell_type": "code",
      "metadata": {
        "colab": {
          "base_uri": "https://localhost:8080/",
          "height": 316
        },
        "id": "yHFUm8JrUDtE",
        "outputId": "88d7e888-46fc-413c-b015-0a7f384b6271"
      },
      "source": [
        "output_df.head()"
      ],
      "execution_count": 107,
      "outputs": [
        {
          "output_type": "execute_result",
          "data": {
            "text/html": [
              "<div>\n",
              "<style scoped>\n",
              "    .dataframe tbody tr th:only-of-type {\n",
              "        vertical-align: middle;\n",
              "    }\n",
              "\n",
              "    .dataframe tbody tr th {\n",
              "        vertical-align: top;\n",
              "    }\n",
              "\n",
              "    .dataframe thead th {\n",
              "        text-align: right;\n",
              "    }\n",
              "</style>\n",
              "<table border=\"1\" class=\"dataframe\">\n",
              "  <thead>\n",
              "    <tr style=\"text-align: right;\">\n",
              "      <th></th>\n",
              "      <th>Reservation-id</th>\n",
              "      <th>Gender</th>\n",
              "      <th>Age</th>\n",
              "      <th>Ethnicity</th>\n",
              "      <th>Educational_Level</th>\n",
              "      <th>Income</th>\n",
              "      <th>Country_region</th>\n",
              "      <th>Hotel_Type</th>\n",
              "      <th>Expected_checkin</th>\n",
              "      <th>Expected_checkout</th>\n",
              "      <th>Booking_date</th>\n",
              "      <th>Adults</th>\n",
              "      <th>Children</th>\n",
              "      <th>Babies</th>\n",
              "      <th>Meal_Type</th>\n",
              "      <th>Visted_Previously</th>\n",
              "      <th>Previous_Cancellations</th>\n",
              "      <th>Deposit_type</th>\n",
              "      <th>Booking_channel</th>\n",
              "      <th>Required_Car_Parking</th>\n",
              "      <th>Use_Promotion</th>\n",
              "      <th>Discount_Rate</th>\n",
              "      <th>Room_Rate</th>\n",
              "      <th>Reservation_Status</th>\n",
              "      <th>Total_persons</th>\n",
              "      <th>No_of_rooms</th>\n",
              "    </tr>\n",
              "  </thead>\n",
              "  <tbody>\n",
              "    <tr>\n",
              "      <th>0</th>\n",
              "      <td>62931593</td>\n",
              "      <td>F</td>\n",
              "      <td>52</td>\n",
              "      <td>Latino</td>\n",
              "      <td>Grad</td>\n",
              "      <td>25K --50K</td>\n",
              "      <td>South</td>\n",
              "      <td>City Hotel</td>\n",
              "      <td>11/18/2016</td>\n",
              "      <td>11/19/2016</td>\n",
              "      <td>10/28/2016</td>\n",
              "      <td>3</td>\n",
              "      <td>3</td>\n",
              "      <td>0</td>\n",
              "      <td>HB</td>\n",
              "      <td>No</td>\n",
              "      <td>No</td>\n",
              "      <td>No Deposit</td>\n",
              "      <td>Direct</td>\n",
              "      <td>Yes</td>\n",
              "      <td>Yes</td>\n",
              "      <td>10</td>\n",
              "      <td>153</td>\n",
              "      <td>2</td>\n",
              "      <td>6</td>\n",
              "      <td>2</td>\n",
              "    </tr>\n",
              "    <tr>\n",
              "      <th>1</th>\n",
              "      <td>70586099</td>\n",
              "      <td>F</td>\n",
              "      <td>47</td>\n",
              "      <td>Latino</td>\n",
              "      <td>Grad</td>\n",
              "      <td>25K --50K</td>\n",
              "      <td>East</td>\n",
              "      <td>Airport Hotels</td>\n",
              "      <td>11/18/2016</td>\n",
              "      <td>11/19/2016</td>\n",
              "      <td>8/6/2016</td>\n",
              "      <td>2</td>\n",
              "      <td>1</td>\n",
              "      <td>0</td>\n",
              "      <td>FB</td>\n",
              "      <td>No</td>\n",
              "      <td>No</td>\n",
              "      <td>No Deposit</td>\n",
              "      <td>Online</td>\n",
              "      <td>No</td>\n",
              "      <td>No</td>\n",
              "      <td>0</td>\n",
              "      <td>210</td>\n",
              "      <td>2</td>\n",
              "      <td>3</td>\n",
              "      <td>1</td>\n",
              "    </tr>\n",
              "    <tr>\n",
              "      <th>3</th>\n",
              "      <td>25192322</td>\n",
              "      <td>F</td>\n",
              "      <td>65</td>\n",
              "      <td>caucasian</td>\n",
              "      <td>High-School</td>\n",
              "      <td>25K --50K</td>\n",
              "      <td>South</td>\n",
              "      <td>Airport Hotels</td>\n",
              "      <td>11/18/2016</td>\n",
              "      <td>11/20/2016</td>\n",
              "      <td>5/20/2016</td>\n",
              "      <td>1</td>\n",
              "      <td>3</td>\n",
              "      <td>2</td>\n",
              "      <td>FB</td>\n",
              "      <td>No</td>\n",
              "      <td>No</td>\n",
              "      <td>No Deposit</td>\n",
              "      <td>Online</td>\n",
              "      <td>Yes</td>\n",
              "      <td>Yes</td>\n",
              "      <td>10</td>\n",
              "      <td>107</td>\n",
              "      <td>2</td>\n",
              "      <td>4</td>\n",
              "      <td>1</td>\n",
              "    </tr>\n",
              "    <tr>\n",
              "      <th>7</th>\n",
              "      <td>90487908</td>\n",
              "      <td>M</td>\n",
              "      <td>45</td>\n",
              "      <td>African American</td>\n",
              "      <td>High-School</td>\n",
              "      <td>&lt;25K</td>\n",
              "      <td>South</td>\n",
              "      <td>Airport Hotels</td>\n",
              "      <td>11/18/2016</td>\n",
              "      <td>11/20/2016</td>\n",
              "      <td>8/1/2016</td>\n",
              "      <td>3</td>\n",
              "      <td>2</td>\n",
              "      <td>1</td>\n",
              "      <td>FB</td>\n",
              "      <td>No</td>\n",
              "      <td>No</td>\n",
              "      <td>No Deposit</td>\n",
              "      <td>Online</td>\n",
              "      <td>No</td>\n",
              "      <td>Yes</td>\n",
              "      <td>10</td>\n",
              "      <td>165</td>\n",
              "      <td>2</td>\n",
              "      <td>5</td>\n",
              "      <td>1</td>\n",
              "    </tr>\n",
              "    <tr>\n",
              "      <th>8</th>\n",
              "      <td>5595445</td>\n",
              "      <td>F</td>\n",
              "      <td>27</td>\n",
              "      <td>Latino</td>\n",
              "      <td>High-School</td>\n",
              "      <td>50K -- 100K</td>\n",
              "      <td>South</td>\n",
              "      <td>City Hotel</td>\n",
              "      <td>11/18/2016</td>\n",
              "      <td>11/19/2016</td>\n",
              "      <td>6/10/2016</td>\n",
              "      <td>1</td>\n",
              "      <td>1</td>\n",
              "      <td>0</td>\n",
              "      <td>FB</td>\n",
              "      <td>No</td>\n",
              "      <td>No</td>\n",
              "      <td>Non-Refundable</td>\n",
              "      <td>Direct</td>\n",
              "      <td>No</td>\n",
              "      <td>Yes</td>\n",
              "      <td>30</td>\n",
              "      <td>173</td>\n",
              "      <td>2</td>\n",
              "      <td>2</td>\n",
              "      <td>1</td>\n",
              "    </tr>\n",
              "  </tbody>\n",
              "</table>\n",
              "</div>"
            ],
            "text/plain": [
              "   Reservation-id Gender  Age  ... Reservation_Status Total_persons No_of_rooms\n",
              "0        62931593      F   52  ...                  2             6           2\n",
              "1        70586099      F   47  ...                  2             3           1\n",
              "3        25192322      F   65  ...                  2             4           1\n",
              "7        90487908      M   45  ...                  2             5           1\n",
              "8         5595445      F   27  ...                  2             2           1\n",
              "\n",
              "[5 rows x 26 columns]"
            ]
          },
          "metadata": {
            "tags": []
          },
          "execution_count": 107
        }
      ]
    },
    {
      "cell_type": "code",
      "metadata": {
        "id": "aq0Bw3QBUDvo"
      },
      "source": [
        "#total price without discount\r\n",
        "output_df['Price'] = output_df['No_of_rooms']*output_df[\"Room_Rate\"]"
      ],
      "execution_count": 108,
      "outputs": []
    },
    {
      "cell_type": "code",
      "metadata": {
        "id": "Csi3XNIuUDyr"
      },
      "source": [
        "#final price after reducing the discount\r\n",
        "output_df['Final_price'] = output_df['Price'] - output_df['Price']*(output_df['Discount_Rate']/100.0)"
      ],
      "execution_count": 112,
      "outputs": []
    },
    {
      "cell_type": "code",
      "metadata": {
        "colab": {
          "base_uri": "https://localhost:8080/",
          "height": 316
        },
        "id": "OH2kid9qUD0O",
        "outputId": "0c670c67-49a9-43d7-c5b2-5f646873f51a"
      },
      "source": [
        "output_df.head()"
      ],
      "execution_count": 113,
      "outputs": [
        {
          "output_type": "execute_result",
          "data": {
            "text/html": [
              "<div>\n",
              "<style scoped>\n",
              "    .dataframe tbody tr th:only-of-type {\n",
              "        vertical-align: middle;\n",
              "    }\n",
              "\n",
              "    .dataframe tbody tr th {\n",
              "        vertical-align: top;\n",
              "    }\n",
              "\n",
              "    .dataframe thead th {\n",
              "        text-align: right;\n",
              "    }\n",
              "</style>\n",
              "<table border=\"1\" class=\"dataframe\">\n",
              "  <thead>\n",
              "    <tr style=\"text-align: right;\">\n",
              "      <th></th>\n",
              "      <th>Reservation-id</th>\n",
              "      <th>Gender</th>\n",
              "      <th>Age</th>\n",
              "      <th>Ethnicity</th>\n",
              "      <th>Educational_Level</th>\n",
              "      <th>Income</th>\n",
              "      <th>Country_region</th>\n",
              "      <th>Hotel_Type</th>\n",
              "      <th>Expected_checkin</th>\n",
              "      <th>Expected_checkout</th>\n",
              "      <th>Booking_date</th>\n",
              "      <th>Adults</th>\n",
              "      <th>Children</th>\n",
              "      <th>Babies</th>\n",
              "      <th>Meal_Type</th>\n",
              "      <th>Visted_Previously</th>\n",
              "      <th>Previous_Cancellations</th>\n",
              "      <th>Deposit_type</th>\n",
              "      <th>Booking_channel</th>\n",
              "      <th>Required_Car_Parking</th>\n",
              "      <th>Use_Promotion</th>\n",
              "      <th>Discount_Rate</th>\n",
              "      <th>Room_Rate</th>\n",
              "      <th>Reservation_Status</th>\n",
              "      <th>Total_persons</th>\n",
              "      <th>No_of_rooms</th>\n",
              "      <th>Price</th>\n",
              "      <th>Final_price</th>\n",
              "    </tr>\n",
              "  </thead>\n",
              "  <tbody>\n",
              "    <tr>\n",
              "      <th>0</th>\n",
              "      <td>62931593</td>\n",
              "      <td>F</td>\n",
              "      <td>52</td>\n",
              "      <td>Latino</td>\n",
              "      <td>Grad</td>\n",
              "      <td>25K --50K</td>\n",
              "      <td>South</td>\n",
              "      <td>City Hotel</td>\n",
              "      <td>11/18/2016</td>\n",
              "      <td>11/19/2016</td>\n",
              "      <td>10/28/2016</td>\n",
              "      <td>3</td>\n",
              "      <td>3</td>\n",
              "      <td>0</td>\n",
              "      <td>HB</td>\n",
              "      <td>No</td>\n",
              "      <td>No</td>\n",
              "      <td>No Deposit</td>\n",
              "      <td>Direct</td>\n",
              "      <td>Yes</td>\n",
              "      <td>Yes</td>\n",
              "      <td>10</td>\n",
              "      <td>153</td>\n",
              "      <td>2</td>\n",
              "      <td>6</td>\n",
              "      <td>2</td>\n",
              "      <td>306</td>\n",
              "      <td>275.4</td>\n",
              "    </tr>\n",
              "    <tr>\n",
              "      <th>1</th>\n",
              "      <td>70586099</td>\n",
              "      <td>F</td>\n",
              "      <td>47</td>\n",
              "      <td>Latino</td>\n",
              "      <td>Grad</td>\n",
              "      <td>25K --50K</td>\n",
              "      <td>East</td>\n",
              "      <td>Airport Hotels</td>\n",
              "      <td>11/18/2016</td>\n",
              "      <td>11/19/2016</td>\n",
              "      <td>8/6/2016</td>\n",
              "      <td>2</td>\n",
              "      <td>1</td>\n",
              "      <td>0</td>\n",
              "      <td>FB</td>\n",
              "      <td>No</td>\n",
              "      <td>No</td>\n",
              "      <td>No Deposit</td>\n",
              "      <td>Online</td>\n",
              "      <td>No</td>\n",
              "      <td>No</td>\n",
              "      <td>0</td>\n",
              "      <td>210</td>\n",
              "      <td>2</td>\n",
              "      <td>3</td>\n",
              "      <td>1</td>\n",
              "      <td>210</td>\n",
              "      <td>210.0</td>\n",
              "    </tr>\n",
              "    <tr>\n",
              "      <th>3</th>\n",
              "      <td>25192322</td>\n",
              "      <td>F</td>\n",
              "      <td>65</td>\n",
              "      <td>caucasian</td>\n",
              "      <td>High-School</td>\n",
              "      <td>25K --50K</td>\n",
              "      <td>South</td>\n",
              "      <td>Airport Hotels</td>\n",
              "      <td>11/18/2016</td>\n",
              "      <td>11/20/2016</td>\n",
              "      <td>5/20/2016</td>\n",
              "      <td>1</td>\n",
              "      <td>3</td>\n",
              "      <td>2</td>\n",
              "      <td>FB</td>\n",
              "      <td>No</td>\n",
              "      <td>No</td>\n",
              "      <td>No Deposit</td>\n",
              "      <td>Online</td>\n",
              "      <td>Yes</td>\n",
              "      <td>Yes</td>\n",
              "      <td>10</td>\n",
              "      <td>107</td>\n",
              "      <td>2</td>\n",
              "      <td>4</td>\n",
              "      <td>1</td>\n",
              "      <td>107</td>\n",
              "      <td>96.3</td>\n",
              "    </tr>\n",
              "    <tr>\n",
              "      <th>7</th>\n",
              "      <td>90487908</td>\n",
              "      <td>M</td>\n",
              "      <td>45</td>\n",
              "      <td>African American</td>\n",
              "      <td>High-School</td>\n",
              "      <td>&lt;25K</td>\n",
              "      <td>South</td>\n",
              "      <td>Airport Hotels</td>\n",
              "      <td>11/18/2016</td>\n",
              "      <td>11/20/2016</td>\n",
              "      <td>8/1/2016</td>\n",
              "      <td>3</td>\n",
              "      <td>2</td>\n",
              "      <td>1</td>\n",
              "      <td>FB</td>\n",
              "      <td>No</td>\n",
              "      <td>No</td>\n",
              "      <td>No Deposit</td>\n",
              "      <td>Online</td>\n",
              "      <td>No</td>\n",
              "      <td>Yes</td>\n",
              "      <td>10</td>\n",
              "      <td>165</td>\n",
              "      <td>2</td>\n",
              "      <td>5</td>\n",
              "      <td>1</td>\n",
              "      <td>165</td>\n",
              "      <td>148.5</td>\n",
              "    </tr>\n",
              "    <tr>\n",
              "      <th>8</th>\n",
              "      <td>5595445</td>\n",
              "      <td>F</td>\n",
              "      <td>27</td>\n",
              "      <td>Latino</td>\n",
              "      <td>High-School</td>\n",
              "      <td>50K -- 100K</td>\n",
              "      <td>South</td>\n",
              "      <td>City Hotel</td>\n",
              "      <td>11/18/2016</td>\n",
              "      <td>11/19/2016</td>\n",
              "      <td>6/10/2016</td>\n",
              "      <td>1</td>\n",
              "      <td>1</td>\n",
              "      <td>0</td>\n",
              "      <td>FB</td>\n",
              "      <td>No</td>\n",
              "      <td>No</td>\n",
              "      <td>Non-Refundable</td>\n",
              "      <td>Direct</td>\n",
              "      <td>No</td>\n",
              "      <td>Yes</td>\n",
              "      <td>30</td>\n",
              "      <td>173</td>\n",
              "      <td>2</td>\n",
              "      <td>2</td>\n",
              "      <td>1</td>\n",
              "      <td>173</td>\n",
              "      <td>121.1</td>\n",
              "    </tr>\n",
              "  </tbody>\n",
              "</table>\n",
              "</div>"
            ],
            "text/plain": [
              "   Reservation-id Gender  Age  ... No_of_rooms Price Final_price\n",
              "0        62931593      F   52  ...           2   306       275.4\n",
              "1        70586099      F   47  ...           1   210       210.0\n",
              "3        25192322      F   65  ...           1   107        96.3\n",
              "7        90487908      M   45  ...           1   165       148.5\n",
              "8         5595445      F   27  ...           1   173       121.1\n",
              "\n",
              "[5 rows x 28 columns]"
            ]
          },
          "metadata": {
            "tags": []
          },
          "execution_count": 113
        }
      ]
    },
    {
      "cell_type": "code",
      "metadata": {
        "id": "yC8_w90yUD2t"
      },
      "source": [
        "#total loss \r\n",
        "expected_revenue_loss = output_df['Final_price'].sum()"
      ],
      "execution_count": 114,
      "outputs": []
    },
    {
      "cell_type": "code",
      "metadata": {
        "colab": {
          "base_uri": "https://localhost:8080/"
        },
        "id": "weFCnoSvUD5Y",
        "outputId": "fe9fae6e-4806-4c8e-cd63-1b96c669452c"
      },
      "source": [
        "expected_revenue_loss"
      ],
      "execution_count": 115,
      "outputs": [
        {
          "output_type": "execute_result",
          "data": {
            "text/plain": [
              "360588.7"
            ]
          },
          "metadata": {
            "tags": []
          },
          "execution_count": 115
        }
      ]
    },
    {
      "cell_type": "code",
      "metadata": {
        "id": "LRbJhWdQUD65"
      },
      "source": [
        ""
      ],
      "execution_count": null,
      "outputs": []
    },
    {
      "cell_type": "markdown",
      "metadata": {
        "id": "bAURuioXmZi4"
      },
      "source": [
        "## Neural network"
      ]
    },
    {
      "cell_type": "code",
      "metadata": {
        "id": "NdoxSR90i-Rd"
      },
      "source": [
        "### Stacking categorical features\r\n",
        "cat_values=np.stack([updated_x[i].values for i in categorical_features],axis=1)"
      ],
      "execution_count": 42,
      "outputs": []
    },
    {
      "cell_type": "code",
      "metadata": {
        "id": "ZfZNI_0Kmj-B"
      },
      "source": [
        "### Stacking continuous features\r\n",
        "cont_values=np.stack([updated_x[i].values for i in continuous_features],axis=1)"
      ],
      "execution_count": 43,
      "outputs": []
    },
    {
      "cell_type": "code",
      "metadata": {
        "id": "IziNA_rfmmo3"
      },
      "source": [
        "### Convert numpy to Tensors\r\n",
        "cat_values=torch.tensor(cat_values,dtype=torch.int64)\r\n",
        "cont_values=torch.tensor(cont_values,dtype=torch.float)"
      ],
      "execution_count": null,
      "outputs": []
    },
    {
      "cell_type": "code",
      "metadata": {
        "id": "yxRtqt4xmuLm"
      },
      "source": [
        "import torch.nn as nn\r\n",
        "import torch.nn.functional as F\r\n",
        "class FeedForwardNN(nn.Module):\r\n",
        "\r\n",
        "    def __init__(self, no_of_cont_ft, no_of_cat_ft,out_size, layers,p):\r\n",
        "        super().__init__()\r\n",
        "        self.bn_cont = nn.BatchNorm1d(no_of_cont_ft)\r\n",
        "        self.softmax = nn.Softmax()\r\n",
        "        \r\n",
        "        layerlist = []\r\n",
        "        no_in_col = no_of_cat_ft + no_of_cont_ft\r\n",
        "        \r\n",
        "        for i in layers:\r\n",
        "            layerlist.append(nn.Linear(no_in_col,i)) \r\n",
        "            layerlist.append(nn.ReLU(inplace=True))\r\n",
        "            layerlist.append(nn.BatchNorm1d(i))\r\n",
        "            layerlist.append(nn.Dropout(p))\r\n",
        "            no_in_col = i\r\n",
        "        layerlist.append(nn.Linear(layers[-1],out_size))\r\n",
        "            \r\n",
        "        self.layers = nn.Sequential(*layerlist)\r\n",
        "    \r\n",
        "    def forward(self, x_cat, x_cont):\r\n",
        "        \r\n",
        "        x_cont = self.bn_cont(x_cont)\r\n",
        "        x = torch.cat([x_cat, x_cont], 1)\r\n",
        "        x = self.layers(x)\r\n",
        "        return x"
      ],
      "execution_count": null,
      "outputs": []
    },
    {
      "cell_type": "code",
      "metadata": {
        "id": "0oFeIGHhnJur"
      },
      "source": [
        "model=FeedForwardNN(len(continuous_features),len(categorical_features),3,[32,64,64,32],p=0.5)"
      ],
      "execution_count": null,
      "outputs": []
    },
    {
      "cell_type": "code",
      "metadata": {
        "id": "bI8vHG66nW1a"
      },
      "source": [
        "loss_function=nn.CrossEntropyLoss()\r\n",
        "optimizer=torch.optim.Adam(model.parameters(),lr=0.2)"
      ],
      "execution_count": null,
      "outputs": []
    },
    {
      "cell_type": "code",
      "metadata": {
        "id": "55huTql1nY4-"
      },
      "source": [
        "y = torch.tensor(updated_y.values, dtype=torch.long).reshape(-1,1)"
      ],
      "execution_count": null,
      "outputs": []
    },
    {
      "cell_type": "code",
      "metadata": {
        "id": "TvRLdv8Tpwje"
      },
      "source": [
        ""
      ],
      "execution_count": null,
      "outputs": []
    },
    {
      "cell_type": "code",
      "metadata": {
        "id": "UHwZRVE8nfxD"
      },
      "source": [
        "batch_size=updated_x.shape[0]\r\n",
        "test_size=int(batch_size*0.25)\r\n",
        "train_categorical=cat_values[:batch_size-test_size]\r\n",
        "test_categorical=cat_values[batch_size-test_size:batch_size]\r\n",
        "train_cont=cont_values[:batch_size-test_size]\r\n",
        "test_cont=cont_values[batch_size-test_size:batch_size]\r\n",
        "y_train=y[:batch_size-test_size]\r\n",
        "y_test=y[batch_size-test_size:batch_size]"
      ],
      "execution_count": null,
      "outputs": []
    },
    {
      "cell_type": "code",
      "metadata": {
        "id": "37Yci3AtnuNX"
      },
      "source": [
        "abc = torch.cat((train_categorical, train_cont,y_train), 1)\r\n",
        "train = torch.utils.data.DataLoader(abc, batch_size=train_categorical.shape[0], num_workers=0, shuffle=True)"
      ],
      "execution_count": null,
      "outputs": []
    },
    {
      "cell_type": "code",
      "metadata": {
        "colab": {
          "base_uri": "https://localhost:8080/"
        },
        "id": "NeDQGEWSnw4r",
        "outputId": "88533f82-b768-412c-e758-1b71a632369b"
      },
      "source": [
        "print(train_categorical.shape)\r\n",
        "print(train_cont.shape)\r\n",
        "print(y_train.shape)"
      ],
      "execution_count": null,
      "outputs": [
        {
          "output_type": "stream",
          "text": [
            "torch.Size([42534, 12])\n",
            "torch.Size([42534, 3])\n",
            "torch.Size([42534, 1])\n"
          ],
          "name": "stdout"
        }
      ]
    },
    {
      "cell_type": "code",
      "metadata": {
        "id": "902f324_rQSb"
      },
      "source": [
        ""
      ],
      "execution_count": null,
      "outputs": []
    },
    {
      "cell_type": "code",
      "metadata": {
        "colab": {
          "base_uri": "https://localhost:8080/",
          "height": 609
        },
        "id": "suy9_YxJnykb",
        "outputId": "aad2d7ec-e6cf-432a-9cb0-1d42591c06de"
      },
      "source": [
        "EPOCHS=2000\r\n",
        "final_losses=[]\r\n",
        "for i in range(EPOCHS):\r\n",
        "    i=i+1\r\n",
        "    for data in train:\r\n",
        "        # print(data.shape)\r\n",
        "        y_pred=model(torch.tensor(data[:,:12], dtype=torch.long),data[:,12:-1])\r\n",
        "        loss=torch.sqrt(loss_function(y_pred,torch.tensor(data[:,-1].flatten(),dtype=torch.long)))\r\n",
        "        final_losses.append(loss)\r\n",
        "        optimizer.zero_grad()\r\n",
        "        loss.backward()\r\n",
        "        optimizer.step()\r\n",
        "    if i%10==0:\r\n",
        "        print(\"Epoch number: {} and the loss : {}\".format(i,loss.item()))"
      ],
      "execution_count": null,
      "outputs": [
        {
          "output_type": "stream",
          "text": [
            "/usr/local/lib/python3.7/dist-packages/ipykernel_launcher.py:7: UserWarning: To copy construct from a tensor, it is recommended to use sourceTensor.clone().detach() or sourceTensor.clone().detach().requires_grad_(True), rather than torch.tensor(sourceTensor).\n",
            "  import sys\n",
            "/usr/local/lib/python3.7/dist-packages/ipykernel_launcher.py:8: UserWarning: To copy construct from a tensor, it is recommended to use sourceTensor.clone().detach() or sourceTensor.clone().detach().requires_grad_(True), rather than torch.tensor(sourceTensor).\n",
            "  \n"
          ],
          "name": "stderr"
        },
        {
          "output_type": "stream",
          "text": [
            "Epoch number: 10 and the loss : 0.9882369041442871\n",
            "Epoch number: 20 and the loss : 0.9668656587600708\n",
            "Epoch number: 30 and the loss : 0.9511332511901855\n",
            "Epoch number: 40 and the loss : 0.942490816116333\n",
            "Epoch number: 50 and the loss : 0.9390646815299988\n",
            "Epoch number: 60 and the loss : 0.9367454051971436\n",
            "Epoch number: 70 and the loss : 0.9354872107505798\n",
            "Epoch number: 80 and the loss : 0.9323863387107849\n",
            "Epoch number: 90 and the loss : 0.9332525134086609\n"
          ],
          "name": "stdout"
        },
        {
          "output_type": "error",
          "ename": "KeyboardInterrupt",
          "evalue": "ignored",
          "traceback": [
            "\u001b[0;31m---------------------------------------------------------------------------\u001b[0m",
            "\u001b[0;31mKeyboardInterrupt\u001b[0m                         Traceback (most recent call last)",
            "\u001b[0;32m<ipython-input-327-329b615bae46>\u001b[0m in \u001b[0;36m<module>\u001b[0;34m()\u001b[0m\n\u001b[1;32m      3\u001b[0m \u001b[0;32mfor\u001b[0m \u001b[0mi\u001b[0m \u001b[0;32min\u001b[0m \u001b[0mrange\u001b[0m\u001b[0;34m(\u001b[0m\u001b[0mEPOCHS\u001b[0m\u001b[0;34m)\u001b[0m\u001b[0;34m:\u001b[0m\u001b[0;34m\u001b[0m\u001b[0;34m\u001b[0m\u001b[0m\n\u001b[1;32m      4\u001b[0m     \u001b[0mi\u001b[0m\u001b[0;34m=\u001b[0m\u001b[0mi\u001b[0m\u001b[0;34m+\u001b[0m\u001b[0;36m1\u001b[0m\u001b[0;34m\u001b[0m\u001b[0;34m\u001b[0m\u001b[0m\n\u001b[0;32m----> 5\u001b[0;31m     \u001b[0;32mfor\u001b[0m \u001b[0mdata\u001b[0m \u001b[0;32min\u001b[0m \u001b[0mtrain\u001b[0m\u001b[0;34m:\u001b[0m\u001b[0;34m\u001b[0m\u001b[0;34m\u001b[0m\u001b[0m\n\u001b[0m\u001b[1;32m      6\u001b[0m         \u001b[0;31m# print(data.shape)\u001b[0m\u001b[0;34m\u001b[0m\u001b[0;34m\u001b[0m\u001b[0;34m\u001b[0m\u001b[0m\n\u001b[1;32m      7\u001b[0m         \u001b[0my_pred\u001b[0m\u001b[0;34m=\u001b[0m\u001b[0mmodel\u001b[0m\u001b[0;34m(\u001b[0m\u001b[0mtorch\u001b[0m\u001b[0;34m.\u001b[0m\u001b[0mtensor\u001b[0m\u001b[0;34m(\u001b[0m\u001b[0mdata\u001b[0m\u001b[0;34m[\u001b[0m\u001b[0;34m:\u001b[0m\u001b[0;34m,\u001b[0m\u001b[0;34m:\u001b[0m\u001b[0;36m12\u001b[0m\u001b[0;34m]\u001b[0m\u001b[0;34m,\u001b[0m \u001b[0mdtype\u001b[0m\u001b[0;34m=\u001b[0m\u001b[0mtorch\u001b[0m\u001b[0;34m.\u001b[0m\u001b[0mlong\u001b[0m\u001b[0;34m)\u001b[0m\u001b[0;34m,\u001b[0m\u001b[0mdata\u001b[0m\u001b[0;34m[\u001b[0m\u001b[0;34m:\u001b[0m\u001b[0;34m,\u001b[0m\u001b[0;36m12\u001b[0m\u001b[0;34m:\u001b[0m\u001b[0;34m-\u001b[0m\u001b[0;36m1\u001b[0m\u001b[0;34m]\u001b[0m\u001b[0;34m)\u001b[0m\u001b[0;34m\u001b[0m\u001b[0;34m\u001b[0m\u001b[0m\n",
            "\u001b[0;32m/usr/local/lib/python3.7/dist-packages/torch/utils/data/dataloader.py\u001b[0m in \u001b[0;36m__next__\u001b[0;34m(self)\u001b[0m\n\u001b[1;32m    515\u001b[0m             \u001b[0;32mif\u001b[0m \u001b[0mself\u001b[0m\u001b[0;34m.\u001b[0m\u001b[0m_sampler_iter\u001b[0m \u001b[0;32mis\u001b[0m \u001b[0;32mNone\u001b[0m\u001b[0;34m:\u001b[0m\u001b[0;34m\u001b[0m\u001b[0;34m\u001b[0m\u001b[0m\n\u001b[1;32m    516\u001b[0m                 \u001b[0mself\u001b[0m\u001b[0;34m.\u001b[0m\u001b[0m_reset\u001b[0m\u001b[0;34m(\u001b[0m\u001b[0;34m)\u001b[0m\u001b[0;34m\u001b[0m\u001b[0;34m\u001b[0m\u001b[0m\n\u001b[0;32m--> 517\u001b[0;31m             \u001b[0mdata\u001b[0m \u001b[0;34m=\u001b[0m \u001b[0mself\u001b[0m\u001b[0;34m.\u001b[0m\u001b[0m_next_data\u001b[0m\u001b[0;34m(\u001b[0m\u001b[0;34m)\u001b[0m\u001b[0;34m\u001b[0m\u001b[0;34m\u001b[0m\u001b[0m\n\u001b[0m\u001b[1;32m    518\u001b[0m             \u001b[0mself\u001b[0m\u001b[0;34m.\u001b[0m\u001b[0m_num_yielded\u001b[0m \u001b[0;34m+=\u001b[0m \u001b[0;36m1\u001b[0m\u001b[0;34m\u001b[0m\u001b[0;34m\u001b[0m\u001b[0m\n\u001b[1;32m    519\u001b[0m             \u001b[0;32mif\u001b[0m \u001b[0mself\u001b[0m\u001b[0;34m.\u001b[0m\u001b[0m_dataset_kind\u001b[0m \u001b[0;34m==\u001b[0m \u001b[0m_DatasetKind\u001b[0m\u001b[0;34m.\u001b[0m\u001b[0mIterable\u001b[0m \u001b[0;32mand\u001b[0m\u001b[0;31m \u001b[0m\u001b[0;31m\\\u001b[0m\u001b[0;34m\u001b[0m\u001b[0;34m\u001b[0m\u001b[0m\n",
            "\u001b[0;32m/usr/local/lib/python3.7/dist-packages/torch/utils/data/dataloader.py\u001b[0m in \u001b[0;36m_next_data\u001b[0;34m(self)\u001b[0m\n\u001b[1;32m    555\u001b[0m     \u001b[0;32mdef\u001b[0m \u001b[0m_next_data\u001b[0m\u001b[0;34m(\u001b[0m\u001b[0mself\u001b[0m\u001b[0;34m)\u001b[0m\u001b[0;34m:\u001b[0m\u001b[0;34m\u001b[0m\u001b[0;34m\u001b[0m\u001b[0m\n\u001b[1;32m    556\u001b[0m         \u001b[0mindex\u001b[0m \u001b[0;34m=\u001b[0m \u001b[0mself\u001b[0m\u001b[0;34m.\u001b[0m\u001b[0m_next_index\u001b[0m\u001b[0;34m(\u001b[0m\u001b[0;34m)\u001b[0m  \u001b[0;31m# may raise StopIteration\u001b[0m\u001b[0;34m\u001b[0m\u001b[0;34m\u001b[0m\u001b[0m\n\u001b[0;32m--> 557\u001b[0;31m         \u001b[0mdata\u001b[0m \u001b[0;34m=\u001b[0m \u001b[0mself\u001b[0m\u001b[0;34m.\u001b[0m\u001b[0m_dataset_fetcher\u001b[0m\u001b[0;34m.\u001b[0m\u001b[0mfetch\u001b[0m\u001b[0;34m(\u001b[0m\u001b[0mindex\u001b[0m\u001b[0;34m)\u001b[0m  \u001b[0;31m# may raise StopIteration\u001b[0m\u001b[0;34m\u001b[0m\u001b[0;34m\u001b[0m\u001b[0m\n\u001b[0m\u001b[1;32m    558\u001b[0m         \u001b[0;32mif\u001b[0m \u001b[0mself\u001b[0m\u001b[0;34m.\u001b[0m\u001b[0m_pin_memory\u001b[0m\u001b[0;34m:\u001b[0m\u001b[0;34m\u001b[0m\u001b[0;34m\u001b[0m\u001b[0m\n\u001b[1;32m    559\u001b[0m             \u001b[0mdata\u001b[0m \u001b[0;34m=\u001b[0m \u001b[0m_utils\u001b[0m\u001b[0;34m.\u001b[0m\u001b[0mpin_memory\u001b[0m\u001b[0;34m.\u001b[0m\u001b[0mpin_memory\u001b[0m\u001b[0;34m(\u001b[0m\u001b[0mdata\u001b[0m\u001b[0;34m)\u001b[0m\u001b[0;34m\u001b[0m\u001b[0;34m\u001b[0m\u001b[0m\n",
            "\u001b[0;31mKeyboardInterrupt\u001b[0m: "
          ]
        }
      ]
    },
    {
      "cell_type": "code",
      "metadata": {
        "id": "6MGJvl5Jn2RK"
      },
      "source": [
        ""
      ],
      "execution_count": null,
      "outputs": []
    }
  ]
}